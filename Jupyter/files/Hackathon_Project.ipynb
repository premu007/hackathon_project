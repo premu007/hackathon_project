{
 "cells": [
  {
   "cell_type": "markdown",
   "metadata": {},
   "source": [
    "# Data Processing\n"
   ]
  },
  {
   "cell_type": "markdown",
   "metadata": {},
   "source": [
    "Data Cleaning / reducing the data set\n",
    "Data set has 3 or more columns needed columsn are userId courseId and rating (mandatory)"
   ]
  },
  {
   "cell_type": "code",
   "execution_count": 8,
   "metadata": {},
   "outputs": [],
   "source": [
    "from __future__ import print_function, division\n",
    "from builtins import range, input"
   ]
  },
  {
   "cell_type": "code",
   "execution_count": 25,
   "metadata": {},
   "outputs": [],
   "source": [
    "#all imports\n",
    "\n",
    "import pandas as pd\n",
    "import pickle\n",
    "import numpy as np\n",
    "from collections import Counter\n",
    "import matplotlib.pyplot as plt\n",
    "from sklearn.utils import shuffle"
   ]
  },
  {
   "cell_type": "code",
   "execution_count": null,
   "metadata": {},
   "outputs": [],
   "source": [
    "df = pd.read_csv('C:/Users/Acer/Desktop/Hackathon_Project/rating.csv')"
   ]
  },
  {
   "cell_type": "code",
   "execution_count": 5,
   "metadata": {},
   "outputs": [
    {
     "data": {
      "text/html": [
       "<div>\n",
       "<style scoped>\n",
       "    .dataframe tbody tr th:only-of-type {\n",
       "        vertical-align: middle;\n",
       "    }\n",
       "\n",
       "    .dataframe tbody tr th {\n",
       "        vertical-align: top;\n",
       "    }\n",
       "\n",
       "    .dataframe thead th {\n",
       "        text-align: right;\n",
       "    }\n",
       "</style>\n",
       "<table border=\"1\" class=\"dataframe\">\n",
       "  <thead>\n",
       "    <tr style=\"text-align: right;\">\n",
       "      <th></th>\n",
       "      <th>userId</th>\n",
       "      <th>courseId</th>\n",
       "      <th>rating</th>\n",
       "      <th>timestamp</th>\n",
       "    </tr>\n",
       "  </thead>\n",
       "  <tbody>\n",
       "    <tr>\n",
       "      <th>0</th>\n",
       "      <td>1</td>\n",
       "      <td>2</td>\n",
       "      <td>3.5</td>\n",
       "      <td>02-04-2005 23:53</td>\n",
       "    </tr>\n",
       "    <tr>\n",
       "      <th>1</th>\n",
       "      <td>1</td>\n",
       "      <td>29</td>\n",
       "      <td>3.5</td>\n",
       "      <td>02-04-2005 23:31</td>\n",
       "    </tr>\n",
       "    <tr>\n",
       "      <th>2</th>\n",
       "      <td>1</td>\n",
       "      <td>32</td>\n",
       "      <td>3.5</td>\n",
       "      <td>02-04-2005 23:33</td>\n",
       "    </tr>\n",
       "    <tr>\n",
       "      <th>3</th>\n",
       "      <td>1</td>\n",
       "      <td>47</td>\n",
       "      <td>3.5</td>\n",
       "      <td>02-04-2005 23:32</td>\n",
       "    </tr>\n",
       "    <tr>\n",
       "      <th>4</th>\n",
       "      <td>1</td>\n",
       "      <td>50</td>\n",
       "      <td>3.5</td>\n",
       "      <td>02-04-2005 23:29</td>\n",
       "    </tr>\n",
       "  </tbody>\n",
       "</table>\n",
       "</div>"
      ],
      "text/plain": [
       "   userId  courseId  rating         timestamp\n",
       "0       1         2     3.5  02-04-2005 23:53\n",
       "1       1        29     3.5  02-04-2005 23:31\n",
       "2       1        32     3.5  02-04-2005 23:33\n",
       "3       1        47     3.5  02-04-2005 23:32\n",
       "4       1        50     3.5  02-04-2005 23:29"
      ]
     },
     "execution_count": 5,
     "metadata": {},
     "output_type": "execute_result"
    }
   ],
   "source": [
    "df.head()\n",
    "\n"
   ]
  },
  {
   "cell_type": "code",
   "execution_count": 6,
   "metadata": {},
   "outputs": [],
   "source": [
    "#Unique course ids\n",
    "unique_course_ids = set(df.courseId.values)\n",
    "course2idx = {}\n",
    "count = 0\n",
    "for course_id in unique_course_ids:\n",
    "  course2idx[course_id] = count\n",
    "  count += 1"
   ]
  },
  {
   "cell_type": "code",
   "execution_count": 7,
   "metadata": {},
   "outputs": [],
   "source": [
    "#adding to dataframe\n",
    "df['course_idx'] = df.apply(lambda row: course2idx[row.courseId], axis=1)"
   ]
  },
  {
   "cell_type": "code",
   "execution_count": 9,
   "metadata": {},
   "outputs": [],
   "source": [
    "df.to_csv('C:/Users/Acer/Desktop/Hackathon_Project/edited_rating.csv', index=False)"
   ]
  },
  {
   "cell_type": "code",
   "execution_count": 10,
   "metadata": {},
   "outputs": [
    {
     "name": "stdout",
     "output_type": "stream",
     "text": [
      "original dataframe size: 1048575\n"
     ]
    }
   ],
   "source": [
    "#checking the length\n",
    "\n",
    "df = pd.read_csv('C:/Users/Acer/Desktop/Hackathon_Project/edited_rating.csv')\n",
    "print(\"original dataframe size:\", len(df))"
   ]
  },
  {
   "cell_type": "code",
   "execution_count": 11,
   "metadata": {},
   "outputs": [],
   "source": [
    "N = df.userId.max() + 1 # number of users\n",
    "M = df.course_idx.max() + 1 # number of courses"
   ]
  },
  {
   "cell_type": "code",
   "execution_count": 16,
   "metadata": {},
   "outputs": [],
   "source": [
    "user_ids_count = Counter(df.userId)\n",
    "course_ids_count = Counter(df.course_idx)\n"
   ]
  },
  {
   "cell_type": "code",
   "execution_count": 17,
   "metadata": {},
   "outputs": [],
   "source": [
    "# number of users and courses we would like to keep\n",
    "n = 10000\n",
    "m = 2000"
   ]
  },
  {
   "cell_type": "code",
   "execution_count": 18,
   "metadata": {},
   "outputs": [],
   "source": [
    "user_ids = [u for u, c in user_ids_count.most_common(n)]\n",
    "course_ids = [m for m, c in course_ids_count.most_common(m)]"
   ]
  },
  {
   "cell_type": "code",
   "execution_count": 19,
   "metadata": {},
   "outputs": [],
   "source": [
    "# make a copy, otherwise ids won't be overwritten\n",
    "df_small = df[df.userId.isin(user_ids) & df.course_idx.isin(course_ids)].copy()"
   ]
  },
  {
   "cell_type": "code",
   "execution_count": 20,
   "metadata": {},
   "outputs": [
    {
     "name": "stdout",
     "output_type": "stream",
     "text": [
      "i: 7120\n",
      "j: 2000\n",
      "Setting new ids\n"
     ]
    }
   ],
   "source": [
    "# need to remake user ids and course ids since they are no longer sequential\n",
    "new_user_id_map = {}\n",
    "i = 0\n",
    "for old in user_ids:\n",
    "  new_user_id_map[old] = i\n",
    "  i += 1\n",
    "print(\"i:\", i)\n",
    "\n",
    "new_course_id_map = {}\n",
    "j = 0\n",
    "for old in course_ids:\n",
    "  new_course_id_map[old] = j\n",
    "  j += 1\n",
    "print(\"j:\", j)\n",
    "\n",
    "print(\"Setting new ids\")"
   ]
  },
  {
   "cell_type": "code",
   "execution_count": 21,
   "metadata": {},
   "outputs": [
    {
     "name": "stdout",
     "output_type": "stream",
     "text": [
      "max user id: 7119\n",
      "max course id: 1999\n"
     ]
    }
   ],
   "source": [
    "df_small.loc[:, 'userId'] = df_small.apply(lambda row: new_user_id_map[row.userId], axis=1)\n",
    "df_small.loc[:, 'course_idx'] = df_small.apply(lambda row: new_course_id_map[row.course_idx], axis=1)\n",
    "\n",
    "print(\"max user id:\", df_small.userId.max())\n",
    "print(\"max course id:\", df_small.course_idx.max())"
   ]
  },
  {
   "cell_type": "code",
   "execution_count": 22,
   "metadata": {},
   "outputs": [
    {
     "name": "stdout",
     "output_type": "stream",
     "text": [
      "small dataframe size: 849323\n"
     ]
    }
   ],
   "source": [
    "print(\"small dataframe size:\", len(df_small))\n",
    "df_small.to_csv('C:/Users/Acer/Desktop/Hackathon_Project/final_rating.csv', index=False)"
   ]
  },
  {
   "cell_type": "code",
   "execution_count": 23,
   "metadata": {},
   "outputs": [],
   "source": [
    "#loading the file above\n",
    "\n",
    "df = pd.read_csv('C:/Users/Acer/Desktop/Hackathon_Project/final_rating.csv')\n",
    "\n",
    "N = df.userId.max() + 1 # number of users\n",
    "M = df.course_idx.max() + 1 # number of courses"
   ]
  },
  {
   "cell_type": "code",
   "execution_count": 26,
   "metadata": {},
   "outputs": [],
   "source": [
    "# split into train and test\n",
    "df = shuffle(df)\n",
    "cutoff = int(0.8*len(df))\n",
    "df_train = df.iloc[:cutoff]\n",
    "df_test = df.iloc[cutoff:]"
   ]
  },
  {
   "cell_type": "code",
   "execution_count": 28,
   "metadata": {},
   "outputs": [],
   "source": [
    "# a dictionary to tell us which users have rated which courses\n",
    "user2course = {}\n",
    "# a dicationary to tell us which courses have been rated by which users\n",
    "course2user = {}\n",
    "# a dictionary to look up ratings\n",
    "usercourse2rating = {}"
   ]
  },
  {
   "cell_type": "code",
   "execution_count": 29,
   "metadata": {},
   "outputs": [
    {
     "name": "stdout",
     "output_type": "stream",
     "text": [
      "Calling: update_user2course_and_course2user\n"
     ]
    }
   ],
   "source": [
    "print(\"Calling: update_user2course_and_course2user\")\n",
    "count = 0\n",
    "def update_user2course_and_course2user(row):\n",
    "  global count\n",
    "  count += 1\n",
    "  if count % 100000 == 0:\n",
    "    print(\"processed: %.3f\" % (float(count)/cutoff))\n",
    "\n",
    "  i = int(row.userId)\n",
    "  j = int(row.course_idx)\n",
    "  if i not in user2course:\n",
    "    user2course[i] = [j]\n",
    "  else:\n",
    "    user2course[i].append(j)\n",
    "\n",
    "  if j not in course2user:\n",
    "    course2user[j] = [i]\n",
    "  else:\n",
    "    course2user[j].append(i)\n",
    "\n",
    "  usercourse2rating[(i,j)] = row.rating"
   ]
  },
  {
   "cell_type": "code",
   "execution_count": 30,
   "metadata": {},
   "outputs": [
    {
     "name": "stdout",
     "output_type": "stream",
     "text": [
      "processed: 0.147\n",
      "processed: 0.294\n",
      "processed: 0.442\n",
      "processed: 0.589\n",
      "processed: 0.736\n",
      "processed: 0.883\n"
     ]
    },
    {
     "data": {
      "text/plain": [
       "390789    None\n",
       "221571    None\n",
       "100678    None\n",
       "537482    None\n",
       "501231    None\n",
       "151717    None\n",
       "768109    None\n",
       "515538    None\n",
       "609081    None\n",
       "252348    None\n",
       "328582    None\n",
       "828859    None\n",
       "762205    None\n",
       "810809    None\n",
       "623162    None\n",
       "437027    None\n",
       "609025    None\n",
       "255437    None\n",
       "800666    None\n",
       "789403    None\n",
       "478679    None\n",
       "96142     None\n",
       "186673    None\n",
       "301602    None\n",
       "803112    None\n",
       "105422    None\n",
       "226727    None\n",
       "209795    None\n",
       "154004    None\n",
       "568066    None\n",
       "          ... \n",
       "563834    None\n",
       "562760    None\n",
       "848058    None\n",
       "201115    None\n",
       "155502    None\n",
       "72768     None\n",
       "604072    None\n",
       "191237    None\n",
       "14635     None\n",
       "27923     None\n",
       "552980    None\n",
       "351385    None\n",
       "718414    None\n",
       "449317    None\n",
       "825512    None\n",
       "339185    None\n",
       "760266    None\n",
       "98487     None\n",
       "746839    None\n",
       "389653    None\n",
       "437352    None\n",
       "60938     None\n",
       "229461    None\n",
       "766992    None\n",
       "69930     None\n",
       "835049    None\n",
       "418684    None\n",
       "615624    None\n",
       "113974    None\n",
       "602277    None\n",
       "Length: 679458, dtype: object"
      ]
     },
     "execution_count": 30,
     "metadata": {},
     "output_type": "execute_result"
    }
   ],
   "source": [
    "df_train.apply(update_user2course_and_course2user, axis=1)"
   ]
  },
  {
   "cell_type": "code",
   "execution_count": 31,
   "metadata": {},
   "outputs": [
    {
     "name": "stdout",
     "output_type": "stream",
     "text": [
      "Calling: update_usercourse2rating_test\n",
      "processed: 0.589\n"
     ]
    }
   ],
   "source": [
    "#Using pickle for json\n",
    "\n",
    "# test ratings dictionary\n",
    "usercourse2rating_test = {}\n",
    "print(\"Calling: update_usercourse2rating_test\")\n",
    "count = 0\n",
    "def update_usercourse2rating_test(row):\n",
    "  global count\n",
    "  count += 1\n",
    "  if count % 100000 == 0:\n",
    "    print(\"processed: %.3f\" % (float(count)/len(df_test)))\n",
    "\n",
    "  i = int(row.userId)\n",
    "  j = int(row.course_idx)\n",
    "  usercourse2rating_test[(i,j)] = row.rating\n",
    "df_test.apply(update_usercourse2rating_test, axis=1)\n",
    "\n",
    "# note: these are not really JSONs\n",
    "with open('user2course.json', 'wb') as f:\n",
    "  pickle.dump(user2course, f)\n",
    "\n",
    "with open('course2user.json', 'wb') as f:\n",
    "  pickle.dump(course2user, f)\n",
    "\n",
    "with open('usercourse2rating.json', 'wb') as f:\n",
    "  pickle.dump(usercourse2rating, f)\n",
    "\n",
    "with open('usercourse2rating_test.json', 'wb') as f:\n",
    "  pickle.dump(usercourse2rating_test, f)"
   ]
  },
  {
   "cell_type": "code",
   "execution_count": null,
   "metadata": {},
   "outputs": [],
   "source": []
  }
 ],
 "metadata": {
  "kernelspec": {
   "display_name": "Python 3",
   "language": "python",
   "name": "python3"
  },
  "language_info": {
   "codemirror_mode": {
    "name": "ipython",
    "version": 3
   },
   "file_extension": ".py",
   "mimetype": "text/x-python",
   "name": "python",
   "nbconvert_exporter": "python",
   "pygments_lexer": "ipython3",
   "version": "3.7.3"
  }
 },
 "nbformat": 4,
 "nbformat_minor": 2
}
